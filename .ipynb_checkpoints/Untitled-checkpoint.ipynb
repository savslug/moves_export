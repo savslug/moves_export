{
 "cells": [
  {
   "cell_type": "code",
   "execution_count": 16,
   "metadata": {
    "ExecuteTime": {
     "end_time": "2018-07-15T15:48:34.377502Z",
     "start_time": "2018-07-15T15:48:34.308498Z"
    }
   },
   "outputs": [],
   "source": [
    "import os\n",
    "import json\n",
    "from pprint import pprint as print\n",
    "path=\"./json/yearly/storyline/storyline_2014.json\"\n",
    "jsons=[]\n",
    "with open(path) as f:\n",
    "    jsons.append(json.load(f))"
   ]
  },
  {
   "cell_type": "code",
   "execution_count": 46,
   "metadata": {
    "ExecuteTime": {
     "end_time": "2018-07-15T16:01:35.137364Z",
     "start_time": "2018-07-15T16:01:35.127363Z"
    }
   },
   "outputs": [
    {
     "name": "stdout",
     "output_type": "stream",
     "text": [
      "'startTime'\n",
      "'type'\n",
      "'activities'\n",
      "'endTime'\n",
      "'lastUpdate'\n",
      "'startTime'\n",
      "'endTime'\n",
      "'type'\n",
      "'activities'\n",
      "'place'\n",
      "'lastUpdate'\n",
      "'startTime'\n",
      "'type'\n",
      "'activities'\n",
      "'endTime'\n",
      "'lastUpdate'\n",
      "'startTime'\n",
      "'endTime'\n",
      "'type'\n",
      "'activities'\n",
      "'place'\n",
      "'lastUpdate'\n",
      "'startTime'\n",
      "'type'\n",
      "'activities'\n",
      "'endTime'\n",
      "'lastUpdate'\n",
      "'startTime'\n",
      "'type'\n",
      "'place'\n",
      "'endTime'\n",
      "'lastUpdate'\n",
      "'startTime'\n",
      "'type'\n",
      "'activities'\n",
      "'endTime'\n",
      "'lastUpdate'\n",
      "'startTime'\n",
      "'endTime'\n",
      "'type'\n",
      "'activities'\n",
      "'place'\n",
      "'lastUpdate'\n"
     ]
    }
   ],
   "source": [
    "for year in jsons:\n",
    "    for datas in jsons:\n",
    "        for data in datas:\n",
    "            for activities in data[\"segments\"]:\n",
    "                print(activities)\n",
    "            break\n",
    "        break\n",
    "    break"
   ]
  },
  {
   "cell_type": "code",
   "execution_count": null,
   "metadata": {
    "collapsed": true
   },
   "outputs": [],
   "source": []
  }
 ],
 "metadata": {
  "hide_input": false,
  "kernelspec": {
   "display_name": "Python [conda env:Anaconda3]",
   "language": "python",
   "name": "conda-env-Anaconda3-py"
  },
  "language_info": {
   "codemirror_mode": {
    "name": "ipython",
    "version": 3
   },
   "file_extension": ".py",
   "mimetype": "text/x-python",
   "name": "python",
   "nbconvert_exporter": "python",
   "pygments_lexer": "ipython3",
   "version": "3.5.3"
  }
 },
 "nbformat": 4,
 "nbformat_minor": 2
}
