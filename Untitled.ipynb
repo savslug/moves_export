{
 "cells": [
  {
   "cell_type": "code",
   "execution_count": 1,
   "metadata": {
    "ExecuteTime": {
     "end_time": "2018-07-15T16:32:53.268787Z",
     "start_time": "2018-07-15T16:32:52.771758Z"
    }
   },
   "outputs": [
    {
     "data": {
      "application/vnd.jupyter.widget-view+json": {
       "model_id": "5f230369ca2d4dd6add5a0b0257283af"
      }
     },
     "metadata": {},
     "output_type": "display_data"
    },
    {
     "name": "stdout",
     "output_type": "stream",
     "text": [
      "\n"
     ]
    }
   ],
   "source": [
    "import os\n",
    "import json\n",
    "from pprint import pprint as print\n",
    "from tqdm import tqdm_notebook as tqdm\n",
    "path=\"./json/yearly/storyline/storyline_\"\n",
    "year=[\"2014\",\"2015\",\"2016\",\"2017\",\"2018\"]\n",
    "jsons=[]\n",
    "for y in tqdm(year):\n",
    "    pathyear=path+y+\".json\"\n",
    "    with open(pathyear) as f:\n",
    "        jsons.append(json.load(f))"
   ]
  },
  {
   "cell_type": "code",
   "execution_count": 2,
   "metadata": {
    "ExecuteTime": {
     "end_time": "2018-07-15T16:32:54.972884Z",
     "start_time": "2018-07-15T16:32:54.889879Z"
    }
   },
   "outputs": [
    {
     "data": {
      "application/vnd.jupyter.widget-view+json": {
       "model_id": "85892e568c454309b2d6b0373e55315e"
      }
     },
     "metadata": {},
     "output_type": "display_data"
    },
    {
     "name": "stdout",
     "output_type": "stream",
     "text": [
      "\n"
     ]
    }
   ],
   "source": [
    "tracks_all=[]\n",
    "\n",
    "for year in tqdm(jsons):\n",
    "    for datas in jsons:\n",
    "        for data in datas:\n",
    "            for activities in data[\"segments\"]:\n",
    "                try:\n",
    "                    track=activities[\"activities\"][0][\"trackPoints\"]\n",
    "                    if track!=[]:\n",
    "                        #print(track)\n",
    "                        tracks_all+=track\n",
    "                except Exception:\n",
    "                    continue"
   ]
  },
  {
   "cell_type": "code",
   "execution_count": 27,
   "metadata": {
    "ExecuteTime": {
     "end_time": "2018-07-15T16:52:09.770935Z",
     "start_time": "2018-07-15T16:52:09.760934Z"
    }
   },
   "outputs": [
    {
     "name": "stdout",
     "output_type": "stream",
     "text": [
      "{'lat': 35.7018765776, 'lon': 139.7440419045, 'time': '20140929T145907+0900'}\n",
      "35283\n",
      "352825\n"
     ]
    }
   ],
   "source": [
    "print(tracks_all[0])\n",
    "print(len(tracks_all[::10]))\n",
    "print(len(tracks_all))"
   ]
  },
  {
   "cell_type": "code",
   "execution_count": 1,
   "metadata": {
    "ExecuteTime": {
     "end_time": "2018-07-15T17:32:07.125055Z",
     "start_time": "2018-07-15T17:32:03.192831Z"
    }
   },
   "outputs": [
    {
     "data": {
      "text/html": [
       "<script>requirejs.config({paths: { 'plotly': ['https://cdn.plot.ly/plotly-latest.min']},});if(!window.Plotly) {{require(['plotly'],function(plotly) {window.Plotly=plotly;});}}</script>"
      ],
      "text/vnd.plotly.v1+html": [
       "<script>requirejs.config({paths: { 'plotly': ['https://cdn.plot.ly/plotly-latest.min']},});if(!window.Plotly) {{require(['plotly'],function(plotly) {window.Plotly=plotly;});}}</script>"
      ]
     },
     "metadata": {},
     "output_type": "display_data"
    },
    {
     "ename": "NameError",
     "evalue": "name 'tracks_all' is not defined",
     "output_type": "error",
     "traceback": [
      "\u001b[1;31m---------------------------------------------------------------------------\u001b[0m",
      "\u001b[1;31mNameError\u001b[0m                                 Traceback (most recent call last)",
      "\u001b[1;32m<ipython-input-1-e714ac7dbe1b>\u001b[0m in \u001b[0;36m<module>\u001b[1;34m()\u001b[0m\n\u001b[0;32m      7\u001b[0m \u001b[1;33m\u001b[0m\u001b[0m\n\u001b[0;32m      8\u001b[0m \u001b[0mplotpoints\u001b[0m\u001b[1;33m=\u001b[0m\u001b[1;33m[\u001b[0m\u001b[1;33m{\u001b[0m\u001b[1;34m\"x\"\u001b[0m\u001b[1;33m:\u001b[0m\u001b[1;33m[\u001b[0m\u001b[1;33m]\u001b[0m\u001b[1;33m,\u001b[0m\u001b[1;34m\"y\"\u001b[0m\u001b[1;33m:\u001b[0m\u001b[1;33m[\u001b[0m\u001b[1;33m]\u001b[0m\u001b[1;33m,\u001b[0m\u001b[1;34m\"color\"\u001b[0m\u001b[1;33m:\u001b[0m\u001b[1;33m[\u001b[0m\u001b[1;33m]\u001b[0m\u001b[1;33m}\u001b[0m\u001b[1;33m]\u001b[0m\u001b[1;33m\u001b[0m\u001b[0m\n\u001b[1;32m----> 9\u001b[1;33m \u001b[1;32mfor\u001b[0m \u001b[0mdata\u001b[0m \u001b[1;32min\u001b[0m \u001b[0mtracks_all\u001b[0m\u001b[1;33m[\u001b[0m\u001b[1;36m350000\u001b[0m\u001b[1;33m:\u001b[0m\u001b[1;33m:\u001b[0m\u001b[1;33m]\u001b[0m\u001b[1;33m:\u001b[0m\u001b[1;33m\u001b[0m\u001b[0m\n\u001b[0m\u001b[0;32m     10\u001b[0m     \u001b[0mplotpoints\u001b[0m\u001b[1;33m[\u001b[0m\u001b[1;36m0\u001b[0m\u001b[1;33m]\u001b[0m\u001b[1;33m[\u001b[0m\u001b[1;34m\"x\"\u001b[0m\u001b[1;33m]\u001b[0m\u001b[1;33m.\u001b[0m\u001b[0mappend\u001b[0m\u001b[1;33m(\u001b[0m\u001b[0mdata\u001b[0m\u001b[1;33m[\u001b[0m\u001b[1;34m\"lon\"\u001b[0m\u001b[1;33m]\u001b[0m\u001b[1;33m)\u001b[0m\u001b[1;33m\u001b[0m\u001b[0m\n\u001b[0;32m     11\u001b[0m     \u001b[0mplotpoints\u001b[0m\u001b[1;33m[\u001b[0m\u001b[1;36m0\u001b[0m\u001b[1;33m]\u001b[0m\u001b[1;33m[\u001b[0m\u001b[1;34m\"y\"\u001b[0m\u001b[1;33m]\u001b[0m\u001b[1;33m.\u001b[0m\u001b[0mappend\u001b[0m\u001b[1;33m(\u001b[0m\u001b[0mdata\u001b[0m\u001b[1;33m[\u001b[0m\u001b[1;34m\"lat\"\u001b[0m\u001b[1;33m]\u001b[0m\u001b[1;33m)\u001b[0m\u001b[1;33m\u001b[0m\u001b[0m\n",
      "\u001b[1;31mNameError\u001b[0m: name 'tracks_all' is not defined"
     ]
    }
   ],
   "source": [
    "from plotly import __version__\n",
    "from plotly.offline import download_plotlyjs, init_notebook_mode, plot, iplot\n",
    "\n",
    "\n",
    "import plotly.graph_objs as go\n",
    "init_notebook_mode(connected=True)\n",
    "\n",
    "plotpoints=[{\"x\":[],\"y\":[],\"color\":[]}]\n",
    "for data in tracks_all[350000::]:\n",
    "    plotpoints[0][\"x\"].append(data[\"lon\"])\n",
    "    plotpoints[0][\"y\"].append(data[\"lat\"])\n",
    "    #plotpoints[0][\"color\"].append(data[\"time\"])\n",
    "    #純粋な日付順で色付\n",
    "    #plotpoints[0][\"color\"].append(int(data[\"time\"][0:8]+data[\"time\"][10:15]))\n",
    "    #時刻で色付\n",
    "    plotpoints[0][\"color\"].append(int(data[\"time\"][9:11])+\n",
    "                                  int(data[\"time\"][11:13])/60+\n",
    "                                  int(data[\"time\"][13:15])/3600)\n",
    "    \n",
    "trace=go.Scatter(\n",
    "    x=plotpoints[0][\"x\"],\n",
    "    y=plotpoints[0][\"y\"],\n",
    "    mode=\"markers\",\n",
    "    marker=dict(\n",
    "        size=2,\n",
    "        color=plotpoints[0][\"color\"],\n",
    "        #colorscale=\"Viridis\",\n",
    "        showscale=True,\n",
    "        colorscale=[[0.0, 'rgb(49,54,149)'],\n",
    "             [0.25, 'rgb(0,165,38)'],\n",
    "             [0.5, 'rgb(254,224,144)'],\n",
    "             [0.75, 'rgb(165,0,38)'],\n",
    "             [1.0, 'rgb(49,54,149)']],\n",
    "    ),\n",
    ")\n",
    "#iplot([{\"x\": [1, 2, 3], \"y\": [3, 1, 6]}])\n",
    "\n",
    "#print(plotpoints)\n",
    "iplot([trace])"
   ]
  },
  {
   "cell_type": "code",
   "execution_count": 35,
   "metadata": {
    "ExecuteTime": {
     "end_time": "2018-07-15T17:04:13.015302Z",
     "start_time": "2018-07-15T17:04:13.011302Z"
    }
   },
   "outputs": [
    {
     "data": {
      "text/plain": [
       "'59'"
      ]
     },
     "execution_count": 35,
     "metadata": {},
     "output_type": "execute_result"
    }
   ],
   "source": [
    "'20140929T145907+0900'[0:8]+'20140929T145907+0900'[10:15]\n",
    "'20140929T145907+0900'[11:13]"
   ]
  },
  {
   "cell_type": "code",
   "execution_count": 40,
   "metadata": {
    "ExecuteTime": {
     "end_time": "2018-07-15T17:15:27.374873Z",
     "start_time": "2018-07-15T17:15:27.362872Z"
    }
   },
   "outputs": [
    {
     "ename": "ImportError",
     "evalue": "No module named 'colorlover'",
     "output_type": "error",
     "traceback": [
      "\u001b[1;31m---------------------------------------------------------------------------\u001b[0m",
      "\u001b[1;31mImportError\u001b[0m                               Traceback (most recent call last)",
      "\u001b[1;32m<ipython-input-40-272a62d6c8a0>\u001b[0m in \u001b[0;36m<module>\u001b[1;34m()\u001b[0m\n\u001b[1;32m----> 1\u001b[1;33m \u001b[1;32mimport\u001b[0m \u001b[0mcolorlover\u001b[0m \u001b[1;32mas\u001b[0m \u001b[0mcl\u001b[0m\u001b[1;33m\u001b[0m\u001b[0m\n\u001b[0m",
      "\u001b[1;31mImportError\u001b[0m: No module named 'colorlover'"
     ]
    }
   ],
   "source": []
  },
  {
   "cell_type": "code",
   "execution_count": 42,
   "metadata": {
    "ExecuteTime": {
     "end_time": "2018-07-15T17:16:24.082116Z",
     "start_time": "2018-07-15T17:16:24.050115Z"
    }
   },
   "outputs": [
    {
     "name": "stdout",
     "output_type": "stream",
     "text": [
      "[[0.0, 'rgb(165,0,38)'],\n",
      " [0.1111111111111111, 'rgb(215,48,39)'],\n",
      " [0.2222222222222222, 'rgb(244,109,67)'],\n",
      " [0.3333333333333333, 'rgb(253,174,97)'],\n",
      " [0.4444444444444444, 'rgb(254,224,144)'],\n",
      " [0.5555555555555556, 'rgb(224,243,248)'],\n",
      " [0.6666666666666666, 'rgb(171,217,233)'],\n",
      " [0.7777777777777778, 'rgb(116,173,209)'],\n",
      " [0.8888888888888888, 'rgb(69,117,180)'],\n",
      " [1.0, 'rgb(49,54,149)']]\n"
     ]
    }
   ],
   "source": [
    "colorscale=[[0.0, 'rgb(165,0,38)'], [0.1111111111111111, 'rgb(215,48,39)'], [0.2222222222222222, 'rgb(244,109,67)'], [0.3333333333333333, 'rgb(253,174,97)'], [0.4444444444444444, 'rgb(254,224,144)'], [0.5555555555555556, 'rgb(224,243,248)'], [0.6666666666666666, 'rgb(171,217,233)'], [0.7777777777777778, 'rgb(116,173,209)'], [0.8888888888888888, 'rgb(69,117,180)'], [1.0, 'rgb(49,54,149)']]\n",
    "print(colorscale)"
   ]
  },
  {
   "cell_type": "code",
   "execution_count": null,
   "metadata": {
    "collapsed": true
   },
   "outputs": [],
   "source": []
  }
 ],
 "metadata": {
  "hide_input": false,
  "kernelspec": {
   "display_name": "Python [conda env:Anaconda3]",
   "language": "python",
   "name": "conda-env-Anaconda3-py"
  },
  "language_info": {
   "codemirror_mode": {
    "name": "ipython",
    "version": 3
   },
   "file_extension": ".py",
   "mimetype": "text/x-python",
   "name": "python",
   "nbconvert_exporter": "python",
   "pygments_lexer": "ipython3",
   "version": "3.5.3"
  }
 },
 "nbformat": 4,
 "nbformat_minor": 2
}
